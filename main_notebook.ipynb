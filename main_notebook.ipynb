{
 "cells": [
  {
   "cell_type": "markdown",
   "metadata": {},
   "source": [
    "# Extração e processamento de steam_games.csv\n",
    "\n",
    "### 1. Importação dos módulos\n",
    "\n",
    "***Obs.:*** *Optou-se por uma abordagem modular em que o main_notebook serve para executar todo o programa e dar uma visão geral. Para detalhes do funcionamento veja a pasta de src*"
   ]
  },
  {
   "cell_type": "code",
   "execution_count": 1,
   "metadata": {},
   "outputs": [],
   "source": [
    "# Importação dos módulos\n",
    "from src.game import load_and_extract_games, Game\n",
    "from src.export import export_to_excel"
   ]
  },
  {
   "cell_type": "markdown",
   "metadata": {},
   "source": [
    "### 2. Definição dos caminhos relativos"
   ]
  },
  {
   "cell_type": "code",
   "execution_count": 2,
   "metadata": {},
   "outputs": [],
   "source": [
    "# Caminhos\n",
    "zip_path = \"data/raw/steam_games.zip\"\n",
    "extract_folder = \"data/raw\"\n",
    "csv_path = \"data/raw/steam_games.csv\"\n",
    "excel_output = \"data/processed/randon_20_lines.xlsx\""
   ]
  },
  {
   "cell_type": "markdown",
   "metadata": {},
   "source": [
    "### 3. Processamento dos dados\n",
    "#### 3.1. Extrair e carregar os jogos"
   ]
  },
  {
   "cell_type": "code",
   "execution_count": 3,
   "metadata": {},
   "outputs": [],
   "source": [
    "# Extrair e carregar os jogos\n",
    "games = load_and_extract_games(zip_path, extract_folder)"
   ]
  },
  {
   "cell_type": "markdown",
   "metadata": {},
   "source": [
    "#### 3.2. Encontrar o percentual de jogos gratuitos na plataforma"
   ]
  },
  {
   "cell_type": "code",
   "execution_count": 4,
   "metadata": {},
   "outputs": [
    {
     "name": "stdout",
     "output_type": "stream",
     "text": [
      "📊 Percentual de jogos gratuitos: 17.39%\n"
     ]
    }
   ],
   "source": [
    "percentual_jogos_gratuitos = Game.percentual_gratuitos(games)\n",
    "print(f\"📊 Percentual de jogos gratuitos: {percentual_jogos_gratuitos}\")"
   ]
  },
  {
   "cell_type": "markdown",
   "metadata": {},
   "source": [
    "#### 3.3. Encontrar o ano com mais lançamentos de games na Steam"
   ]
  },
  {
   "cell_type": "code",
   "execution_count": 5,
   "metadata": {},
   "outputs": [
    {
     "name": "stdout",
     "output_type": "stream",
     "text": [
      "📅 Ano(s) com maior número de lançamentos: [2022]\n"
     ]
    }
   ],
   "source": [
    "anos_com_mais_lancamentos = Game.ano_maior_numero_lancamentos(games)\n",
    "print(f\"📅 Ano(s) com maior número de lançamentos: {anos_com_mais_lancamentos}\")"
   ]
  },
  {
   "cell_type": "markdown",
   "metadata": {},
   "source": [
    "#### 3.4. Descobrir os jogos com maior número de usuários simultâneos, juntamente com percentual de avaliações positivas e tempo médio de jogo de acordo com o *dataset*"
   ]
  },
  {
   "cell_type": "code",
   "execution_count": 6,
   "metadata": {},
   "outputs": [
    {
     "name": "stdout",
     "output_type": "stream",
     "text": [
      "🎮 Top 5 jogos com mais usuários simultâneos:\n",
      "1° Hogwarts Legacy - 872138 usuários simultâneos\n",
      "   🔹 94.37% de avaliações positivas\n",
      "   ⏳ Tempo médio de jogo: 661 horas\n",
      "2° Counter-Strike: Global Offensive - 825215 usuários simultâneos\n",
      "   🔹 88.26% de avaliações positivas\n",
      "   ⏳ Tempo médio de jogo: 30484 horas\n",
      "3° Dota 2 - 558759 usuários simultâneos\n",
      "   🔹 83.10% de avaliações positivas\n",
      "   ⏳ Tempo médio de jogo: 37162 horas\n",
      "4° Sons Of The Forest - 405191 usuários simultâneos\n",
      "   🔹 83.89% de avaliações positivas\n",
      "   ⏳ Tempo médio de jogo: 312 horas\n",
      "5° Lost Ark - 287501 usuários simultâneos\n",
      "   🔹 73.83% de avaliações positivas\n",
      "   ⏳ Tempo médio de jogo: 3335 horas\n"
     ]
    }
   ],
   "source": [
    "top_5_jogos = Game.top_5_jogos_com_mais_usuarios(games)\n",
    "\n",
    "print(\"🎮 Top 5 jogos com mais usuários simultâneos:\")\n",
    "for i, jogo in enumerate(top_5_jogos, 1):\n",
    "    print(f\"{i}° {jogo['Nome']} - {jogo['Pico de Jogadores']} usuários simultâneos\")\n",
    "    print(f\"   🔹 {jogo['Percentual de Avaliações Positivas']} de avaliações positivas\")\n",
    "    print(f\"   ⏳ Tempo médio de jogo: {jogo['Tempo Médio de Jogo']}\")\n"
   ]
  },
  {
   "cell_type": "markdown",
   "metadata": {},
   "source": [
    "### 4. Exportar 20 linhas de dados para uma planilha a fim de fazer uma análise manual das questões do item 3"
   ]
  },
  {
   "cell_type": "code",
   "execution_count": 7,
   "metadata": {},
   "outputs": [
    {
     "name": "stdout",
     "output_type": "stream",
     "text": [
      "Arquivo data/processed/randon_20_lines.xlsx já existe. Nenhuma ação realizada.\n"
     ]
    }
   ],
   "source": [
    "# Exportar dados filtrados\n",
    "export_to_excel(csv_path, excel_output)"
   ]
  }
 ],
 "metadata": {
  "kernelspec": {
   "display_name": "base",
   "language": "python",
   "name": "python3"
  },
  "language_info": {
   "codemirror_mode": {
    "name": "ipython",
    "version": 3
   },
   "file_extension": ".py",
   "mimetype": "text/x-python",
   "name": "python",
   "nbconvert_exporter": "python",
   "pygments_lexer": "ipython3",
   "version": "3.11.7"
  }
 },
 "nbformat": 4,
 "nbformat_minor": 2
}
